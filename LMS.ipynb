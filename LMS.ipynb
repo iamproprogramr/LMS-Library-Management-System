{
  "nbformat": 4,
  "nbformat_minor": 0,
  "metadata": {
    "colab": {
      "provenance": []
    },
    "kernelspec": {
      "name": "python3",
      "display_name": "Python 3"
    },
    "language_info": {
      "name": "python"
    }
  },
  "cells": [
    {
      "cell_type": "code",
      "execution_count": null,
      "metadata": {
        "id": "8q2LaABudiLI"
      },
      "outputs": [],
      "source": [
        "#This program is wirtten by Muhammad yousaf email:yousafsahiwal3@gmail.com\n",
        "import tkinter as tk\n",
        "from tkinter import ttk, messagebox\n",
        "\n",
        "screen = tk.Tk()\n",
        "screen.title(\"Library Management System\")\n",
        "screen.geometry(\"600x400\")\n",
        "screen.configure(bg='#2c2f33')\n",
        "\n",
        "\n",
        "def issue_book():\n",
        "    book_id = book_id_entry.get()\n",
        "    member_id = member_id_entry.get()\n",
        "\n",
        "    if not (book_id and member_id):\n",
        "        messagebox.showwarning(\"Input Error\", \"Please enter both book ID and member ID.\")\n",
        "        return\n",
        "\n",
        "    messagebox.showinfo(\"Book Issued\", \"Book issued successfully.\")\n",
        "\n",
        "\n",
        "def return_book():\n",
        "    book_id = book_id_entry.get()\n",
        "\n",
        "    if not book_id:\n",
        "        messagebox.showwarning(\"Input Error\", \"Please enter book ID.\")\n",
        "        return\n",
        "\n",
        "    messagebox.showinfo(\"Book Returned\", \"Book returned successfully.\")\n",
        "\n",
        "\n",
        "title_label = tk.Label(screen, text=\"Library Management System\", bg='#2c2f33', fg='#ffffff', font=(\"Helvetica\", 20))\n",
        "title_label.pack(pady=20)\n",
        "\n",
        "book_id_label = tk.Label(screen, text=\"Book ID:\", bg='#2c2f33', fg='#ffffff')\n",
        "book_id_label.pack()\n",
        "book_id_entry = tk.Entry(screen, width=30, bg='#23272a', fg='#ffffff')\n",
        "book_id_entry.pack(pady=5)\n",
        "\n",
        "member_id_label = tk.Label(screen, text=\"Member ID:\", bg='#2c2f33', fg='#ffffff')\n",
        "member_id_label.pack()\n",
        "member_id_entry = tk.Entry(screen, width=30, bg='#23272a', fg='#ffffff')\n",
        "member_id_entry.pack(pady=5)\n",
        "\n",
        "issue_button = tk.Button(screen, text=\"Issue Book\", command=issue_book, bg='#7289da', fg='#ffffff')\n",
        "issue_button.pack(pady=10)\n",
        "\n",
        "return_button = tk.Button(screen, text=\"Return Book\", command=return_book, bg='#7289da', fg='#ffffff')\n",
        "return_button.pack(pady=10)\n",
        "\n",
        "screen.mainloop()\n"
      ]
    }
  ]
}